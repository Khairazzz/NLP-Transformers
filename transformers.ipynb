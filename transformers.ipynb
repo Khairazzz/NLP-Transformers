{
  "nbformat": 4,
  "nbformat_minor": 0,
  "metadata": {
    "colab": {
      "provenance": [],
      "authorship_tag": "ABX9TyMbTsUFiYhgA2R47NmK41LE",
      "include_colab_link": true
    },
    "kernelspec": {
      "name": "python3",
      "display_name": "Python 3"
    },
    "language_info": {
      "name": "python"
    }
  },
  "cells": [
    {
      "cell_type": "markdown",
      "metadata": {
        "id": "view-in-github",
        "colab_type": "text"
      },
      "source": [
        "<a href=\"https://colab.research.google.com/github/Khairazzz/NLP-Transformers/blob/main/transformers.ipynb\" target=\"_parent\"><img src=\"https://colab.research.google.com/assets/colab-badge.svg\" alt=\"Open In Colab\"/></a>"
      ]
    },
    {
      "cell_type": "code",
      "execution_count": 1,
      "metadata": {
        "id": "cMzyP8HoJ-fV"
      },
      "outputs": [],
      "source": [
        "import numpy as np\n",
        "import matplotlib.pyplot as plt\n",
        "import seaborn as sns\n",
        "\n",
        "np.random.seed(0)\n",
        "np.set_printoptions(precision=4, suppress=True)"
      ]
    },
    {
      "cell_type": "code",
      "source": [
        "def softmax(x, axis=-1):\n",
        "    x_max = np.max(x, axis=axis, keepdims=True)\n",
        "    e = np.exp(x - x_max)\n",
        "    return e / np.sum(e, axis=axis, keepdims=True)\n",
        "\n",
        "def glorot_init(shape):\n",
        "    if len(shape) == 2:\n",
        "        fan_in, fan_out = shape\n",
        "    else:\n",
        "        fan_in = shape[0]\n",
        "        fan_out = shape[-1]\n",
        "    limit = np.sqrt(6 / (fan_in + fan_out))\n",
        "    return np.random.uniform(-limit, limit, size=shape).astype(np.float32)"
      ],
      "metadata": {
        "id": "NA0kacWaKW_p"
      },
      "execution_count": 2,
      "outputs": []
    },
    {
      "cell_type": "code",
      "source": [
        "def sinusoidal_pos_enc(max_len, d_model):\n",
        "    pos = np.arange(max_len)[:, None]\n",
        "    i = np.arange(d_model)[None, :]\n",
        "    angle_rates = 1 / (10000 ** (2 * (i//2) / d_model))\n",
        "    angle = pos * angle_rates\n",
        "    pe = np.zeros((max_len, d_model), dtype=np.float32)\n",
        "    pe[:, 0::2] = np.sin(angle[:, 0::2])\n",
        "    pe[:, 1::2] = np.cos(angle[:, 1::2])\n",
        "    return pe\n",
        "\n",
        "class RotaryPositionalEmbedding:\n",
        "    def __init__(self, max_seq_len, head_dim):\n",
        "        # Precompute theta values\n",
        "        theta = 1.0 / (10000 ** (np.arange(0, head_dim, 2) / head_dim))\n",
        "        t = np.arange(max_seq_len)\n",
        "        freqs = np.outer(t, theta) # Shape: (max_seq_len, head_dim/2)\n",
        "\n",
        "        # Precompute cosine and sine matrices for all positions\n",
        "        self.cos_m = np.cos(freqs)\n",
        "        self.sin_m = np.sin(freqs)\n",
        "\n",
        "    def apply(self, x, seq_len):\n",
        "        # x shape: (batch, heads, seq, head_dim)\n",
        "        cos = self.cos_m[:seq_len, :][None, None, :, :] # (1, 1, seq, head_dim/2)\n",
        "        sin = self.sin_m[:seq_len, :][None, None, :, :] # (1, 1, seq, head_dim/2)\n",
        "\n",
        "        # Split x into two halves for rotation\n",
        "        x1, x2 = x[..., 0::2], x[..., 1::2] # (b, h, seq, head_dim/2) each\n",
        "\n",
        "        # Apply rotation formula: x_rot = x * cos + rotate_half(x) * sin\n",
        "        x_rotated = np.zeros_like(x)\n",
        "        x_rotated[..., 0::2] = x1 * cos - x2 * sin\n",
        "        x_rotated[..., 1::2] = x2 * cos + x1 * sin\n",
        "\n",
        "        return x_rotated"
      ],
      "metadata": {
        "id": "PvLyaprAKXvo"
      },
      "execution_count": 3,
      "outputs": []
    },
    {
      "cell_type": "code",
      "source": [
        "class LayerNorm:\n",
        "    def __init__(self, d_model, eps=1e-5):\n",
        "        self.eps = eps\n",
        "        self.gamma = np.ones((d_model,), dtype=np.float32)\n",
        "        self.beta = np.zeros((d_model,), dtype=np.float32)\n",
        "    def __call__(self, x):\n",
        "        mean = np.mean(x, axis=-1, keepdims=True)\n",
        "        var = np.var(x, axis=-1, keepdims=True)\n",
        "        x_norm = (x - mean) / np.sqrt(var + self.eps)\n",
        "        return x_norm * self.gamma + self.beta\n",
        "\n",
        "def scaled_dot_product_attention(Q, K, V, mask=None):\n",
        "    d_k = Q.shape[-1]\n",
        "    scores = np.matmul(Q, K.transpose(0,1,3,2)) / np.sqrt(d_k)\n",
        "    if mask is not None:\n",
        "        scores = np.where(mask == 0, -1e9, scores)\n",
        "    weights = softmax(scores, axis=-1)\n",
        "    out = np.matmul(weights, V)\n",
        "    return out, weights"
      ],
      "metadata": {
        "id": "vj8uEl6LKenM"
      },
      "execution_count": 4,
      "outputs": []
    },
    {
      "cell_type": "code",
      "source": [
        "class MultiHeadAttention:\n",
        "    def __init__(self, d_model, num_heads, rope=None):\n",
        "        assert d_model % num_heads == 0, \"d_model must be divisible by num_heads\"\n",
        "        self.d_model = d_model\n",
        "        self.num_heads = num_heads\n",
        "        self.head_dim = d_model // num_heads\n",
        "        self.rope = rope\n",
        "\n",
        "        self.W_q = glorot_init((d_model, d_model))\n",
        "        self.W_k = glorot_init((d_model, d_model))\n",
        "        self.W_v = glorot_init((d_model, d_model))\n",
        "        self.W_o = glorot_init((d_model, d_model))\n",
        "\n",
        "    def split_heads(self, x):\n",
        "        b, seq, _ = x.shape\n",
        "        x = x.reshape(b, seq, self.num_heads, self.head_dim)\n",
        "        return x.transpose(0,2,1,3)\n",
        "\n",
        "    def combine_heads(self, x):\n",
        "        b, h, seq, hd = x.shape\n",
        "        x = x.transpose(0,2,1,3).reshape(b, seq, h*hd)\n",
        "        return x\n",
        "\n",
        "    def __call__(self, x, mask=None):\n",
        "        Q = x @ self.W_q\n",
        "        K = x @ self.W_k\n",
        "        V = x @ self.W_v\n",
        "\n",
        "        Qh = self.split_heads(Q)\n",
        "        Kh = self.split_heads(K)\n",
        "        Vh = self.split_heads(V)\n",
        "\n",
        "        if self.rope is not None:\n",
        "            seq_len = Qh.shape[2]\n",
        "            Qh = self.rope.apply(Qh, seq_len)\n",
        "            Kh = self.rope.apply(Kh, seq_len)\n",
        "\n",
        "        attn_out, attn_weights = scaled_dot_product_attention(Qh, Kh, Vh, mask=mask)\n",
        "        concat = self.combine_heads(attn_out)\n",
        "        out = concat @ self.W_o\n",
        "        return out, attn_weights\n",
        "\n",
        "class FeedForward:\n",
        "    def __init__(self, d_model, d_ff):\n",
        "        self.W1 = glorot_init((d_model, d_ff))\n",
        "        self.b1 = np.zeros((d_ff,), dtype=np.float32)\n",
        "        self.W2 = glorot_init((d_ff, d_model))\n",
        "        self.b2 = np.zeros((d_model,), dtype=np.float32)\n",
        "    def __call__(self, x):\n",
        "        h = np.matmul(x, self.W1) + self.b1\n",
        "        h = np.maximum(0, h)\n",
        "        out = np.matmul(h, self.W2) + self.b2\n",
        "        return out"
      ],
      "metadata": {
        "id": "IyS1e6KoKi-r"
      },
      "execution_count": 5,
      "outputs": []
    },
    {
      "cell_type": "code",
      "source": [
        "class DecoderBlock:\n",
        "    def __init__(self, d_model, num_heads, d_ff, rope=None):\n",
        "        self.ln1 = LayerNorm(d_model)\n",
        "        self.mha = MultiHeadAttention(d_model, num_heads, rope=rope) #\n",
        "        self.ln2 = LayerNorm(d_model)\n",
        "        self.ff = FeedForward(d_model, d_ff)\n",
        "    def __call__(self, x, mask=None):\n",
        "        x_norm = self.ln1(x)\n",
        "        mha_out, attn_weights = self.mha(x_norm, mask=mask)\n",
        "        x = x + mha_out\n",
        "        x_norm = self.ln2(x)\n",
        "        ff_out = self.ff(x_norm)\n",
        "        x = x + ff_out\n",
        "        return x, attn_weights\n",
        "\n",
        "class TransformerDecoder:\n",
        "    def __init__(self, vocab_size, max_seq_len, d_model=32, num_heads=4, num_layers=2,\n",
        "                d_ff=128, pos_encoding_method='sinusoidal', use_weight_tying=False):\n",
        "        self.pos_encoding_method = pos_encoding_method\n",
        "        head_dim = d_model // num_heads\n",
        "\n",
        "        # Embedding\n",
        "        self.W_embed = glorot_init((vocab_size, d_model))\n",
        "\n",
        "        # Positional Encoding Setup\n",
        "        if pos_encoding_method == 'rope':\n",
        "            self.rope = RotaryPositionalEmbedding(max_seq_len, head_dim)\n",
        "        elif pos_encoding_method == 'sinusoidal':\n",
        "            self.pos_enc = sinusoidal_pos_enc(max_seq_len, d_model)\n",
        "            self.rope = None\n",
        "        else:\n",
        "            raise ValueError(\"Unsupported pos_encoding_method\")\n",
        "\n",
        "        # Stack of decoder blocks\n",
        "        self.blocks = [DecoderBlock(d_model, num_heads, d_ff, rope=self.rope) for _ in range(num_layers)]\n",
        "\n",
        "        if use_weight_tying:\n",
        "            self.W_out = self.W_embed.T\n",
        "        else:\n",
        "            self.W_out = glorot_init((d_model, vocab_size))\n",
        "\n",
        "    def create_causal_mask(self, seq_len):\n",
        "        m = np.tril(np.ones((seq_len, seq_len), dtype=np.float32))\n",
        "        return m.reshape(1, 1, seq_len, seq_len)\n",
        "\n",
        "    def forward(self, tokens):\n",
        "        b, seq = tokens.shape\n",
        "\n",
        "        x = self.W_embed[tokens]\n",
        "\n",
        "        if self.pos_encoding_method == 'sinusoidal':\n",
        "            x = x + self.pos_enc[:seq]\n",
        "\n",
        "        mask = self.create_causal_mask(seq)\n",
        "        attn_maps = []\n",
        "        for block in self.blocks:\n",
        "            x, attn_weights = block(x, mask=mask)\n",
        "            attn_maps.append(attn_weights)\n",
        "\n",
        "        logits = np.matmul(x, self.W_out)\n",
        "        last_logits = logits[:, -1, :]\n",
        "        probs = softmax(last_logits, axis=-1)\n",
        "        return logits, probs, attn_maps"
      ],
      "metadata": {
        "id": "vqiKBi5RKoXK"
      },
      "execution_count": 6,
      "outputs": []
    },
    {
      "cell_type": "code",
      "source": [
        "def visualize_attention(attention_map, tokens, layer, head):\n",
        "    attn_data = attention_map[0, head]\n",
        "    token_labels = [str(t) for t in tokens[0]]\n",
        "\n",
        "    plt.figure(figsize=(8, 6))\n",
        "    sns.heatmap(attn_data, xticklabels=token_labels, yticklabels=token_labels,\n",
        "                annot=True, cmap='viridis', fmt=\".2f\")\n",
        "    plt.title(f\"Attention Heatmap (Layer {layer}, Head {head})\")\n",
        "    plt.xlabel(\"Key Tokens\")\n",
        "    plt.ylabel(\"Query Tokens\")\n",
        "    plt.show()"
      ],
      "metadata": {
        "id": "Ij99bAS3KxhV"
      },
      "execution_count": 7,
      "outputs": []
    },
    {
      "cell_type": "code",
      "source": [
        "vocab_size = 50\n",
        "max_seq_len = 16\n",
        "d_model = 32\n",
        "num_heads = 4\n",
        "num_layers = 2\n",
        "d_ff = 64\n",
        "\n",
        "USE_ROPE = True\n",
        "USE_WEIGHT_TYING = True\n",
        "VISUALIZE = True\n",
        "\n",
        "print(\"=== PENGUJIAN DENGAN FITUR BONUS ===\")\n",
        "print(f\"Menggunakan RoPE: {USE_ROPE}\")\n",
        "print(f\"Menggunakan Weight Tying: {USE_WEIGHT_TYING}\")\n",
        "\n",
        "pos_method = 'rope' if USE_ROPE else 'sinusoidal'\n",
        "model = TransformerDecoder(\n",
        "    vocab_size=vocab_size, max_seq_len=max_seq_len, d_model=d_model,\n",
        "    num_heads=num_heads, num_layers=num_layers, d_ff=d_ff,\n",
        "    pos_encoding_method=pos_method, use_weight_tying=USE_WEIGHT_TYING\n",
        ")\n",
        "\n",
        "tokens = np.array([\n",
        "    [2, 5, 7, 1, 9, 4],\n",
        "    [3, 8, 2, 6, 0, 0]\n",
        "], dtype=int)\n",
        "\n",
        "logits, probs, attn_maps = model.forward(tokens)\n",
        "\n",
        "print(\"\\n=== OUTPUTS ===\")\n",
        "print(\"logits shape:\", logits.shape)\n",
        "print(\"probs shape (next token):\", probs.shape)\n",
        "print(\"sum probs each batch (should ~1):\", probs.sum(axis=-1))\n",
        "\n",
        "attn0 = attn_maps[0]\n",
        "print(\"\\nAttention weights for layer 0, head 0 (batch 0):\\n\", attn0[0, 0])\n",
        "\n",
        "seq = tokens.shape[1]\n",
        "violations = np.sum(attn0[0, 0][np.triu_indices(seq, k=1)] > 1e-6)\n",
        "print(\"\\nMasking violations:\", violations)\n",
        "assert violations == 0\n",
        "print(\"\\nTest passed.\")\n",
        "\n",
        "# --- Panggil Fungsi Visualisasi ---\n",
        "if VISUALIZE and attn_maps:\n",
        "    print(\"\\nVisualisasi atensi untuk Layer 0, Head 0\")\n",
        "    visualize_attention(attn_maps[0], tokens, layer=0, head=0)"
      ],
      "metadata": {
        "colab": {
          "base_uri": "https://localhost:8080/",
          "height": 946
        },
        "id": "am7CqpSdLmZy",
        "outputId": "2da08758-9783-424b-89b0-46aaed8d4666"
      },
      "execution_count": 11,
      "outputs": [
        {
          "output_type": "stream",
          "name": "stdout",
          "text": [
            "=== PENGUJIAN DENGAN FITUR BONUS ===\n",
            "Menggunakan RoPE: True\n",
            "Menggunakan Weight Tying: True\n",
            "\n",
            "=== OUTPUTS ===\n",
            "logits shape: (2, 6, 50)\n",
            "probs shape (next token): (2, 50)\n",
            "sum probs each batch (should ~1): [1. 1.]\n",
            "\n",
            "Attention weights for layer 0, head 0 (batch 0):\n",
            " [[1.     0.     0.     0.     0.     0.    ]\n",
            " [0.6502 0.3498 0.     0.     0.     0.    ]\n",
            " [0.6777 0.2278 0.0945 0.     0.     0.    ]\n",
            " [0.3588 0.1283 0.1769 0.3359 0.     0.    ]\n",
            " [0.1082 0.567  0.0242 0.107  0.1936 0.    ]\n",
            " [0.1293 0.3511 0.0245 0.2753 0.1379 0.0818]]\n",
            "\n",
            "Masking violations: 0\n",
            "\n",
            "Test passed.\n",
            "\n",
            "Visualisasi atensi untuk Layer 0, Head 0\n"
          ]
        },
        {
          "output_type": "display_data",
          "data": {
            "text/plain": [
              "<Figure size 800x600 with 2 Axes>"
            ],
            "image/png": "[encoded data removed]"
          },
          "metadata": {}
        }
      ]
    }
  ]
}